{
 "cells": [
  {
   "cell_type": "code",
   "execution_count": 1,
   "metadata": {},
   "outputs": [],
   "source": [
    "import cv2\n",
    "import numpy as np\n",
    "import matplotlib as mp"
   ]
  },
  {
   "cell_type": "code",
   "execution_count": 2,
   "metadata": {},
   "outputs": [],
   "source": [
    "class Retangulo:\n",
    "     def __init__(self):\n",
    "        self.xMin = 999999\n",
    "        self.xMax = 0\n",
    "        self.yMin = 999999\n",
    "        self.yMax = 0"
   ]
  },
  {
   "cell_type": "code",
   "execution_count": 3,
   "metadata": {},
   "outputs": [],
   "source": [
    "class Componente:\n",
    "    def __init__(self, valor):\n",
    "        self.retangulo = Retangulo()\n",
    "        self.n_pixels = 0\n",
    "        self.valor = valor"
   ]
  },
  {
   "cell_type": "code",
   "execution_count": 4,
   "metadata": {},
   "outputs": [],
   "source": [
    "def pixelsValidos(col, lin, maxCol, maxLin):\n",
    "    return col > 0 and lin > 0 and col <= maxCol and lin <= maxLin"
   ]
  },
  {
   "cell_type": "code",
   "execution_count": 5,
   "metadata": {},
   "outputs": [],
   "source": [
    "def binariza(img):\n",
    "    for col in range(img.shape[0]):\n",
    "        for lin in range(img.shape[1]):\n",
    "            if img[col][lin]/255 > limiar:\n",
    "                img[col][lin] = 255\n",
    "            else:\n",
    "                img[col][lin] = 0\n",
    "    cv2.imwrite('binarizada.bmp', img)\n",
    "    return img"
   ]
  },
  {
   "cell_type": "code",
   "execution_count": 6,
   "metadata": {},
   "outputs": [],
   "source": [
    "def criaImagemRotulavel(col, lin):\n",
    "    newImg = np.empty((col, lin))\n",
    "    for col in range(newImg.shape[0]):\n",
    "        for lin in range(newImg.shape[1]):\n",
    "            newImg[col][lin] = -1\n",
    "    return newImg"
   ]
  },
  {
   "cell_type": "code",
   "execution_count": 7,
   "metadata": {},
   "outputs": [],
   "source": [
    "def inunda(img, newImg, col, lin, componentes, n_componentes):\n",
    "    if pixelsValidos(col, lin, img.shape[0], img.shape[1]):\n",
    "        newImg[col][lin] = n_componentes\n",
    "        componentes = validaRetangulo(col, lin, componentes, n_componentes)\n",
    "        componentes[n_componentes].n_pixels += 1\n",
    "        if newImg[col+1][lin] == -1 and img[col+1][lin] == 255:\n",
    "            componentes, newImg = inunda(img, newImg, col+1, lin, componentes, n_componentes)\n",
    "        if newImg[col-1][lin] == -1 and img[col-1][lin] == 255:\n",
    "            componentes, newImg = inunda(img, newImg, col-1, lin, componentes, n_componentes)\n",
    "        if newImg[col][lin-1] == -1 and img[col][lin-1] == 255:\n",
    "            componentes, newImg = inunda(img, newImg, col, lin-1, componentes, n_componentes)\n",
    "        if newImg[col][lin+1] == -1 and img[col][lin+1] == 255:\n",
    "            componentes, newImg = inunda(img, newImg, col, lin+1, componentes, n_componentes)\n",
    "    return componentes, newImg;"
   ]
  },
  {
   "cell_type": "code",
   "execution_count": 8,
   "metadata": {
    "scrolled": true
   },
   "outputs": [],
   "source": [
    "def rotula(img):\n",
    "    newImg = criaImagemRotulavel(img.shape[0], img.shape[1])\n",
    "    componentes = []\n",
    "    n_componentes = 0\n",
    "    for col in range(newImg.shape[0]):\n",
    "        for lin in range(newImg.shape[1]):\n",
    "            if newImg[col][lin] == -1 and img[col][lin] == 255:\n",
    "                novoComponente = Componente(n_componentes)\n",
    "                componentes.append(novoComponente)\n",
    "                componentes, newImg = inunda(img, newImg, col, lin, componentes, n_componentes)\n",
    "                componentes, n_componentes = validaTamanhos(n_componentes, componentes)\n",
    "                n_componentes += 1\n",
    "    return newImg, componentes;"
   ]
  },
  {
   "cell_type": "code",
   "execution_count": 9,
   "metadata": {},
   "outputs": [],
   "source": [
    "def validaTamanhos(n_componentes, componentes):\n",
    "    if componentes[n_componentes].n_pixels < 100:\n",
    "        del componentes[n_componentes]\n",
    "        n_componentes -= 1\n",
    "    return componentes, n_componentes"
   ]
  },
  {
   "cell_type": "code",
   "execution_count": 10,
   "metadata": {},
   "outputs": [],
   "source": [
    "def validaRetangulo(col, lin, componentes, n_componentes):\n",
    "    if componentes[n_componentes].retangulo.xMin > col:\n",
    "        componentes[n_componentes].retangulo.xMin = col\n",
    "    if componentes[n_componentes].retangulo.xMax < col:\n",
    "        componentes[n_componentes].retangulo.xMax = col\n",
    "    if componentes[n_componentes].retangulo.yMin > lin:\n",
    "        componentes[n_componentes].retangulo.yMin = lin\n",
    "    if componentes[n_componentes].retangulo.yMax < lin:\n",
    "        componentes[n_componentes].retangulo.yMax = lin\n",
    "    return componentes"
   ]
  },
  {
   "cell_type": "code",
   "execution_count": 11,
   "metadata": {},
   "outputs": [],
   "source": [
    "def pintarRetangulos(imgPintar, componentes):\n",
    "    for i in range(len(componentes)):\n",
    "        xMin = componentes[i].retangulo.xMin\n",
    "        xMax = componentes[i].retangulo.xMax\n",
    "        yMin = componentes[i].retangulo.yMin\n",
    "        yMax = componentes[i].retangulo.yMax\n",
    "        cv2.rectangle(imgPintar, (yMin, xMin), (yMax, xMax), (0, 0, 255), 1)\n",
    "    cv2.imwrite('retangulos.bmp', imgPintar)"
   ]
  },
  {
   "cell_type": "code",
   "execution_count": 12,
   "metadata": {},
   "outputs": [
    {
     "name": "stdout",
     "output_type": "stream",
     "text": [
      "A imagem possui 49 arrozes\n"
     ]
    }
   ],
   "source": [
    "\n",
    "limiar = 0.8\n",
    "componentes = []\n",
    "img = cv2.imread('arroz.bmp', 0)\n",
    "\n",
    "binarizada = binariza(img)\n",
    "imgRotulada, componentes = rotula(binarizada)\n",
    "\n",
    "imgRetangulo = cv2.imread('arroz.bmp')\n",
    "pintarRetangulos(imgRetangulo, componentes)\n",
    "\n",
    "print(\"A imagem possui \" + str(len(componentes)) + \" arrozes\")\n"
   ]
  }
 ],
 "metadata": {
  "kernelspec": {
   "display_name": "Python 3",
   "language": "python",
   "name": "python3"
  },
  "language_info": {
   "codemirror_mode": {
    "name": "ipython",
    "version": 3
   },
   "file_extension": ".py",
   "mimetype": "text/x-python",
   "name": "python",
   "nbconvert_exporter": "python",
   "pygments_lexer": "ipython3",
   "version": "3.7.1"
  }
 },
 "nbformat": 4,
 "nbformat_minor": 2
}
