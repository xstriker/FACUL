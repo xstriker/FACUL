{
 "cells": [
  {
   "cell_type": "code",
   "execution_count": 1,
   "metadata": {},
   "outputs": [
    {
     "data": {
      "text/html": [
       "<div>\n",
       "<style scoped>\n",
       "    .dataframe tbody tr th:only-of-type {\n",
       "        vertical-align: middle;\n",
       "    }\n",
       "\n",
       "    .dataframe tbody tr th {\n",
       "        vertical-align: top;\n",
       "    }\n",
       "\n",
       "    .dataframe thead th {\n",
       "        text-align: right;\n",
       "    }\n",
       "</style>\n",
       "<table border=\"1\" class=\"dataframe\">\n",
       "  <thead>\n",
       "    <tr style=\"text-align: right;\">\n",
       "      <th></th>\n",
       "      <th>RENATO</th>\n",
       "      <th>COSTA OESTE</th>\n",
       "      <th>CALOI ANDES PRETA</th>\n",
       "      <th>10</th>\n",
       "      <th>02/05/18 06:30</th>\n",
       "      <th>02/05/18 15:58</th>\n",
       "    </tr>\n",
       "  </thead>\n",
       "  <tbody>\n",
       "    <tr>\n",
       "      <th>0</th>\n",
       "      <td>KETTY</td>\n",
       "      <td>10</td>\n",
       "      <td>MONARK 10 PRETA</td>\n",
       "      <td>11</td>\n",
       "      <td>02/05/18 06:44</td>\n",
       "      <td>02/05/18 18:49</td>\n",
       "    </tr>\n",
       "    <tr>\n",
       "      <th>1</th>\n",
       "      <td>MAYCON</td>\n",
       "      <td>CAFIS</td>\n",
       "      <td>CALOI EASY RIDER ROXA</td>\n",
       "      <td>12</td>\n",
       "      <td>02/05/18 06:45</td>\n",
       "      <td>02/05/18 07:50</td>\n",
       "    </tr>\n",
       "    <tr>\n",
       "      <th>2</th>\n",
       "      <td>ANDRIELE</td>\n",
       "      <td>CAFIS</td>\n",
       "      <td>CALOI EASY RIDER ROXA</td>\n",
       "      <td>13</td>\n",
       "      <td>02/05/18 06:45</td>\n",
       "      <td>02/05/18 07:50</td>\n",
       "    </tr>\n",
       "    <tr>\n",
       "      <th>3</th>\n",
       "      <td>MARCO</td>\n",
       "      <td>370452</td>\n",
       "      <td>VENZO RAPTOR PRETA</td>\n",
       "      <td>1</td>\n",
       "      <td>02/05/18 07:13</td>\n",
       "      <td>02/05/18 08:47</td>\n",
       "    </tr>\n",
       "    <tr>\n",
       "      <th>4</th>\n",
       "      <td>BRUNO</td>\n",
       "      <td>CAFIS</td>\n",
       "      <td>SEM MARCA PRETA</td>\n",
       "      <td>2</td>\n",
       "      <td>02/05/18 07:20</td>\n",
       "      <td>02/05/18 08:47</td>\n",
       "    </tr>\n",
       "  </tbody>\n",
       "</table>\n",
       "</div>"
      ],
      "text/plain": [
       "     RENATO COSTA OESTE      CALOI ANDES PRETA  10  02/05/18 06:30  \\\n",
       "0     KETTY          10        MONARK 10 PRETA  11  02/05/18 06:44   \n",
       "1   MAYCON        CAFIS  CALOI EASY RIDER ROXA  12  02/05/18 06:45   \n",
       "2  ANDRIELE       CAFIS  CALOI EASY RIDER ROXA  13  02/05/18 06:45   \n",
       "3     MARCO      370452     VENZO RAPTOR PRETA   1  02/05/18 07:13   \n",
       "4     BRUNO       CAFIS        SEM MARCA PRETA   2  02/05/18 07:20   \n",
       "\n",
       "   02/05/18 15:58  \n",
       "0  02/05/18 18:49  \n",
       "1  02/05/18 07:50  \n",
       "2  02/05/18 07:50  \n",
       "3  02/05/18 08:47  \n",
       "4  02/05/18 08:47  "
      ]
     },
     "execution_count": 1,
     "metadata": {},
     "output_type": "execute_result"
    }
   ],
   "source": [
    "import pandas as pd\n",
    "df = pd.read_csv(\"Dados consolidados.csv\", sep=';')\n",
    "df.head()"
   ]
  },
  {
   "cell_type": "code",
   "execution_count": 2,
   "metadata": {},
   "outputs": [
    {
     "data": {
      "text/plain": [
       "(6993, 6)"
      ]
     },
     "execution_count": 2,
     "metadata": {},
     "output_type": "execute_result"
    }
   ],
   "source": [
    "df.shape"
   ]
  },
  {
   "cell_type": "code",
   "execution_count": 3,
   "metadata": {
    "scrolled": true
   },
   "outputs": [
    {
     "data": {
      "text/plain": [
       "(6994, 5)"
      ]
     },
     "execution_count": 3,
     "metadata": {},
     "output_type": "execute_result"
    }
   ],
   "source": [
    "#adicionando os valores que foram identicados como nomes de coluna em uma linha e renomeando as colunas\n",
    "col = list(df.columns)\n",
    "df.columns = ['NOME', 'RA', 'CARACTERISTICA', 'index2', 'DT_ENTRADA', 'DT_SAIDA']\n",
    "col_dict = {'NOME': col[0], 'RA': col[1], 'CARACTERISTICA': col[2], 'DT_ENTRADA': col[4], 'DT_SAIDA': col[5]}\n",
    "df = df.append(col_dict, ignore_index=True)\n",
    "#ordenando o df pela data de entrada\n",
    "df = df.sort_values(by='DT_ENTRADA')\n",
    "#apagando colunas inuteis\n",
    "df = df.reset_index().drop(columns=['index', 'index2'])\n",
    "df.shape"
   ]
  },
  {
   "cell_type": "code",
   "execution_count": 4,
   "metadata": {},
   "outputs": [
    {
     "data": {
      "text/html": [
       "<div>\n",
       "<style scoped>\n",
       "    .dataframe tbody tr th:only-of-type {\n",
       "        vertical-align: middle;\n",
       "    }\n",
       "\n",
       "    .dataframe tbody tr th {\n",
       "        vertical-align: top;\n",
       "    }\n",
       "\n",
       "    .dataframe thead th {\n",
       "        text-align: right;\n",
       "    }\n",
       "</style>\n",
       "<table border=\"1\" class=\"dataframe\">\n",
       "  <thead>\n",
       "    <tr style=\"text-align: right;\">\n",
       "      <th></th>\n",
       "      <th>NOME</th>\n",
       "      <th>RA</th>\n",
       "      <th>CARACTERISTICA</th>\n",
       "      <th>DT_ENTRADA</th>\n",
       "      <th>DT_SAIDA</th>\n",
       "    </tr>\n",
       "  </thead>\n",
       "  <tbody>\n",
       "    <tr>\n",
       "      <th>0</th>\n",
       "      <td>RENATO</td>\n",
       "      <td>COSTA OESTE</td>\n",
       "      <td>CALOI PRETA</td>\n",
       "      <td>01/02/19 06:26</td>\n",
       "      <td>01/02/19 15:32</td>\n",
       "    </tr>\n",
       "    <tr>\n",
       "      <th>1</th>\n",
       "      <td>OSWALDO</td>\n",
       "      <td>COSTA OESTE</td>\n",
       "      <td>SEM MARCA MARROM</td>\n",
       "      <td>01/02/19 07:41</td>\n",
       "      <td>01/02/19 16:53</td>\n",
       "    </tr>\n",
       "    <tr>\n",
       "      <th>2</th>\n",
       "      <td>JOSE CARLOS</td>\n",
       "      <td>207772</td>\n",
       "      <td>TURIM PRETA E LARANJA</td>\n",
       "      <td>01/02/19 08:02</td>\n",
       "      <td>01/02/19 12:28</td>\n",
       "    </tr>\n",
       "    <tr>\n",
       "      <th>3</th>\n",
       "      <td>ALEXANDRE</td>\n",
       "      <td>1561588</td>\n",
       "      <td>GROOVE PRETA</td>\n",
       "      <td>01/02/19 08:03</td>\n",
       "      <td>01/02/19 14:50</td>\n",
       "    </tr>\n",
       "    <tr>\n",
       "      <th>4</th>\n",
       "      <td>ALEXANDRE</td>\n",
       "      <td>1142186</td>\n",
       "      <td>B.TWIN AZUL</td>\n",
       "      <td>01/02/19 08:13</td>\n",
       "      <td>01/02/19 16:55</td>\n",
       "    </tr>\n",
       "  </tbody>\n",
       "</table>\n",
       "</div>"
      ],
      "text/plain": [
       "          NOME           RA         CARACTERISTICA      DT_ENTRADA  \\\n",
       "0       RENATO  COSTA OESTE            CALOI PRETA  01/02/19 06:26   \n",
       "1      OSWALDO  COSTA OESTE       SEM MARCA MARROM  01/02/19 07:41   \n",
       "2  JOSE CARLOS       207772  TURIM PRETA E LARANJA  01/02/19 08:02   \n",
       "3    ALEXANDRE      1561588           GROOVE PRETA  01/02/19 08:03   \n",
       "4    ALEXANDRE      1142186            B.TWIN AZUL  01/02/19 08:13   \n",
       "\n",
       "         DT_SAIDA  \n",
       "0  01/02/19 15:32  \n",
       "1  01/02/19 16:53  \n",
       "2  01/02/19 12:28  \n",
       "3  01/02/19 14:50  \n",
       "4  01/02/19 16:55  "
      ]
     },
     "execution_count": 4,
     "metadata": {},
     "output_type": "execute_result"
    }
   ],
   "source": [
    "df.head()"
   ]
  },
  {
   "cell_type": "code",
   "execution_count": 5,
   "metadata": {},
   "outputs": [
    {
     "data": {
      "text/html": [
       "<div>\n",
       "<style scoped>\n",
       "    .dataframe tbody tr th:only-of-type {\n",
       "        vertical-align: middle;\n",
       "    }\n",
       "\n",
       "    .dataframe tbody tr th {\n",
       "        vertical-align: top;\n",
       "    }\n",
       "\n",
       "    .dataframe thead th {\n",
       "        text-align: right;\n",
       "    }\n",
       "</style>\n",
       "<table border=\"1\" class=\"dataframe\">\n",
       "  <thead>\n",
       "    <tr style=\"text-align: right;\">\n",
       "      <th></th>\n",
       "      <th>NOME</th>\n",
       "      <th>RA</th>\n",
       "      <th>CARACTERISTICA</th>\n",
       "      <th>DT_ENTRADA</th>\n",
       "      <th>DT_SAIDA</th>\n",
       "    </tr>\n",
       "  </thead>\n",
       "  <tbody>\n",
       "    <tr>\n",
       "      <th>count</th>\n",
       "      <td>6994</td>\n",
       "      <td>6994</td>\n",
       "      <td>6993</td>\n",
       "      <td>6994</td>\n",
       "      <td>6873</td>\n",
       "    </tr>\n",
       "    <tr>\n",
       "      <th>unique</th>\n",
       "      <td>700</td>\n",
       "      <td>994</td>\n",
       "      <td>1682</td>\n",
       "      <td>6449</td>\n",
       "      <td>5941</td>\n",
       "    </tr>\n",
       "    <tr>\n",
       "      <th>top</th>\n",
       "      <td>LUCAS</td>\n",
       "      <td>COSTA OESTE</td>\n",
       "      <td>SEM MARCA PRETA</td>\n",
       "      <td>04/05/18 18:24</td>\n",
       "      <td>05/12/18 18:46</td>\n",
       "    </tr>\n",
       "    <tr>\n",
       "      <th>freq</th>\n",
       "      <td>284</td>\n",
       "      <td>176</td>\n",
       "      <td>279</td>\n",
       "      <td>3</td>\n",
       "      <td>5</td>\n",
       "    </tr>\n",
       "  </tbody>\n",
       "</table>\n",
       "</div>"
      ],
      "text/plain": [
       "         NOME           RA   CARACTERISTICA      DT_ENTRADA        DT_SAIDA\n",
       "count    6994         6994             6993            6994            6873\n",
       "unique    700          994             1682            6449            5941\n",
       "top     LUCAS  COSTA OESTE  SEM MARCA PRETA  04/05/18 18:24  05/12/18 18:46\n",
       "freq      284          176              279               3               5"
      ]
     },
     "execution_count": 5,
     "metadata": {},
     "output_type": "execute_result"
    }
   ],
   "source": [
    "df.describe()"
   ]
  },
  {
   "cell_type": "code",
   "execution_count": 6,
   "metadata": {},
   "outputs": [
    {
     "name": "stdout",
     "output_type": "stream",
     "text": [
      "<type 'str'>\n",
      "<type 'str'>\n",
      "<type 'str'>\n",
      "<type 'str'>\n",
      "<type 'str'>\n"
     ]
    }
   ],
   "source": [
    "# checando tipo de cada coluna\n",
    "for col in df.columns:\n",
    "    print(type(df[col].iloc[0]))"
   ]
  },
  {
   "cell_type": "code",
   "execution_count": 12,
   "metadata": {},
   "outputs": [
    {
     "data": {
      "text/plain": [
       "(125, 5)"
      ]
     },
     "execution_count": 12,
     "metadata": {},
     "output_type": "execute_result"
    }
   ],
   "source": [
    "# datas de saida mal formatadas\n",
    "df[df['DT_SAIDA'].apply(lambda x: len(str(x)) != 14)].shape"
   ]
  },
  {
   "cell_type": "code",
   "execution_count": 8,
   "metadata": {},
   "outputs": [
    {
     "data": {
      "text/html": [
       "<div>\n",
       "<style scoped>\n",
       "    .dataframe tbody tr th:only-of-type {\n",
       "        vertical-align: middle;\n",
       "    }\n",
       "\n",
       "    .dataframe tbody tr th {\n",
       "        vertical-align: top;\n",
       "    }\n",
       "\n",
       "    .dataframe thead th {\n",
       "        text-align: right;\n",
       "    }\n",
       "</style>\n",
       "<table border=\"1\" class=\"dataframe\">\n",
       "  <thead>\n",
       "    <tr style=\"text-align: right;\">\n",
       "      <th></th>\n",
       "      <th>NOME</th>\n",
       "      <th>RA</th>\n",
       "      <th>CARACTERISTICA</th>\n",
       "      <th>DT_ENTRADA</th>\n",
       "      <th>DT_SAIDA</th>\n",
       "    </tr>\n",
       "  </thead>\n",
       "  <tbody>\n",
       "  </tbody>\n",
       "</table>\n",
       "</div>"
      ],
      "text/plain": [
       "Empty DataFrame\n",
       "Columns: [NOME, RA, CARACTERISTICA, DT_ENTRADA, DT_SAIDA]\n",
       "Index: []"
      ]
     },
     "execution_count": 8,
     "metadata": {},
     "output_type": "execute_result"
    }
   ],
   "source": [
    "# datas de entrada mal formatadas\n",
    "df[df['DT_ENTRADA'].apply(lambda x: len(str(x)) != 14)]"
   ]
  },
  {
   "cell_type": "code",
   "execution_count": 9,
   "metadata": {},
   "outputs": [
    {
     "data": {
      "text/plain": [
       "COSTA OESTE             176\n",
       "CAFIS                    55\n",
       "R.U                      24\n",
       "JURISEG                  24\n",
       "CAFIS                    11\n",
       "ESTAGIARIO/ DAELN        10\n",
       "CAIXA ECONOMICA          10\n",
       "CURSINHO SOLIDARIO        7\n",
       "CONTROL                   6\n",
       "ESTAGIARIO/DAELN          5\n",
       "CURSINHO SOLIDARIO        3\n",
       "ESTAGIARIO / DAELN        2\n",
       "COSTA OESTE               2\n",
       "CALOURO                   2\n",
       "30511 DAELN               1\n",
       "0,711805556               1\n",
       "155 FUNTEF                1\n",
       "ESTAGIARIO DAELN          1\n",
       "CURSO SOLIDARIO           1\n",
       "17:47+                    1\n",
       "FUNTEF 0155               1\n",
       "ASSUTEF                   1\n",
       "LIBRAS                    1\n",
       "ALUNA/ INTERCAMBIO        1\n",
       "130572863 PÓS GRAD        1\n",
       "8286053-3                 1\n",
       "CAIXA ECONOMICA           1\n",
       "ESTAGIARIO/ DAELN         1\n",
       "ESTAGIARIO /DAELN         1\n",
       "CX ECONOMICA FEDERAL      1\n",
       "0,769444444               1\n",
       "30511 DAELN               1\n",
       "Name: RA, dtype: int64"
      ]
     },
     "execution_count": 9,
     "metadata": {},
     "output_type": "execute_result"
    }
   ],
   "source": [
    "# procurando por RA's que nao sao numericos\n",
    "df_ra_false = pd.DataFrame()\n",
    "for index, row in df.iterrows():\n",
    "    try:\n",
    "        int(row['RA'])\n",
    "    except:\n",
    "        df_ra_false = df_ra_false.append(row)\n",
    "df_ra_false['RA'].value_counts()"
   ]
  },
  {
   "cell_type": "code",
   "execution_count": 11,
   "metadata": {},
   "outputs": [
    {
     "data": {
      "text/plain": [
       "(355, 5)"
      ]
     },
     "execution_count": 11,
     "metadata": {},
     "output_type": "execute_result"
    }
   ],
   "source": [
    "df_ra_false.shape"
   ]
  },
  {
   "cell_type": "code",
   "execution_count": 16,
   "metadata": {},
   "outputs": [
    {
     "data": {
      "text/plain": [
       "NOME                0\n",
       "RA                  0\n",
       "CARACTERISTICA      1\n",
       "DT_ENTRADA          0\n",
       "DT_SAIDA          121\n",
       "dtype: int64"
      ]
     },
     "execution_count": 16,
     "metadata": {},
     "output_type": "execute_result"
    }
   ],
   "source": [
    "# NUMERO DE NULOS EM CADA COLUNA\n",
    "len(df) - df.count()"
   ]
  },
  {
   "cell_type": "code",
   "execution_count": null,
   "metadata": {},
   "outputs": [],
   "source": []
  }
 ],
 "metadata": {
  "kernelspec": {
   "display_name": "Python 3",
   "language": "python",
   "name": "python3"
  },
  "language_info": {
   "codemirror_mode": {
    "name": "ipython",
    "version": 3
   },
   "file_extension": ".py",
   "mimetype": "text/x-python",
   "name": "python",
   "nbconvert_exporter": "python",
   "pygments_lexer": "ipython3",
   "version": "3.7.1"
  }
 },
 "nbformat": 4,
 "nbformat_minor": 2
}
