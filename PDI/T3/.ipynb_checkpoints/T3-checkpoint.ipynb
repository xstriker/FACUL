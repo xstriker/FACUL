{
 "cells": [
  {
   "cell_type": "markdown",
   "metadata": {},
   "source": [
    "# LINHA - COLUNA - CANAL"
   ]
  },
  {
   "cell_type": "markdown",
   "metadata": {},
   "source": [
    "##### IMPORTS"
   ]
  },
  {
   "cell_type": "code",
   "execution_count": 1,
   "metadata": {},
   "outputs": [],
   "source": [
    "import cv2\n",
    "import numpy as np\n",
    "import os\n",
    "from datetime import datetime\n",
    "from dateutil import relativedelta"
   ]
  },
  {
   "cell_type": "markdown",
   "metadata": {},
   "source": [
    "##### CONSTANTES"
   ]
  },
  {
   "cell_type": "code",
   "execution_count": 2,
   "metadata": {},
   "outputs": [],
   "source": [
    "gblur = 1  ### 1 para gaussiano e 0 para box blur\n",
    "totalBlurs = 5\n",
    "boxToGaussian = 2\n",
    "jSize = 15    ### tamanho da janela (quadrada)"
   ]
  },
  {
   "cell_type": "markdown",
   "metadata": {},
   "source": [
    "###### Tratamento da imagem"
   ]
  },
  {
   "cell_type": "code",
   "execution_count": 3,
   "metadata": {},
   "outputs": [],
   "source": [
    "def criaImagemNova(y, x, c):\n",
    "    return np.empty((y, x, c))"
   ]
  },
  {
   "cell_type": "markdown",
   "metadata": {},
   "source": [
    "##### Fontes de luz"
   ]
  },
  {
   "cell_type": "code",
   "execution_count": 4,
   "metadata": {},
   "outputs": [],
   "source": [
    "def separaLuz(img, newImg):\n",
    "    for y in range(img.shape[0]):\n",
    "        for x in range(img.shape[1]):\n",
    "            somaCanais = 0\n",
    "            for c in range(img.shape[2]):\n",
    "                somaCanais += img[y][x][c]\n",
    "            for c in range(img.shape[2]):\n",
    "                if somaCanais < 390:\n",
    "                    newImg[y][x][c] = 0\n",
    "                else:\n",
    "                    newImg[y][x][c] = img[y][x][c]"
   ]
  },
  {
   "cell_type": "markdown",
   "metadata": {},
   "source": [
    "##### Borra luz"
   ]
  },
  {
   "cell_type": "code",
   "execution_count": 5,
   "metadata": {},
   "outputs": [],
   "source": [
    "def borraLuz(img, newImg):\n",
    "    for i in range(totalBlurs):\n",
    "        incremento = 0 if (i+1)%2 == 1 else 1\n",
    "        if gblur == 1:\n",
    "            janela = jSize*(i+1)+incremento\n",
    "            newImg += cv2.GaussianBlur(img, (janela, janela), 0)\n",
    "        else:\n",
    "            for j in range(boxToGaussian):\n",
    "                janela = jSize*(i+1)+incremento - 6*i\n",
    "                newImg += cv2.blur(img, (janela, janela))"
   ]
  },
  {
   "cell_type": "markdown",
   "metadata": {},
   "source": [
    "##### Soma imagens"
   ]
  },
  {
   "cell_type": "code",
   "execution_count": 6,
   "metadata": {},
   "outputs": [],
   "source": [
    "def somaImagensPonderada(img, mascara):\n",
    "    for y in range(img.shape[0]):\n",
    "        for x in range(img.shape[1]):\n",
    "            for c in range(img.shape[2]):\n",
    "                img[y][x][c] = 0.9*img[y][x][c] + 0.1*mascara[y][x][c]"
   ]
  },
  {
   "cell_type": "markdown",
   "metadata": {},
   "source": [
    "##### Bloom filter"
   ]
  },
  {
   "cell_type": "code",
   "execution_count": 7,
   "metadata": {},
   "outputs": [],
   "source": [
    "def bloom(img):\n",
    "    luzes = criaImagemNova(img.shape[0], img.shape[1], img.shape[2])\n",
    "    separaLuz(img, luzes)\n",
    "    cv2.imwrite('LUZ.bmp', luzes)\n",
    "    print('1')\n",
    "    luzBorrada = criaImagemNova(img.shape[0], img.shape[1], img.shape[2])\n",
    "    borraLuz(luzes, luzBorrada)\n",
    "    cv2.imwrite('luzBorradaX.bmp', luzBorrada)\n",
    "    print('2')\n",
    "    somaImagensPonderada(img, luzBorrada)\n",
    "    cv2.imwrite('bloomX.bmp', img)\n",
    "    print('3')"
   ]
  },
  {
   "cell_type": "markdown",
   "metadata": {},
   "source": [
    "# Main"
   ]
  },
  {
   "cell_type": "code",
   "execution_count": 8,
   "metadata": {},
   "outputs": [
    {
     "name": "stdout",
     "output_type": "stream",
     "text": [
      "1\n",
      "2\n",
      "3\n"
     ]
    }
   ],
   "source": [
    "img = cv2.imread('Wind Waker GC.bmp', 1)\n",
    "img = img.astype (np.float32)\n",
    "\n",
    "bloom(img)"
   ]
  }
 ],
 "metadata": {
  "kernelspec": {
   "display_name": "Python 3",
   "language": "python",
   "name": "python3"
  },
  "language_info": {
   "codemirror_mode": {
    "name": "ipython",
    "version": 3
   },
   "file_extension": ".py",
   "mimetype": "text/x-python",
   "name": "python",
   "nbconvert_exporter": "python",
   "pygments_lexer": "ipython3",
   "version": "3.7.1"
  }
 },
 "nbformat": 4,
 "nbformat_minor": 2
}
