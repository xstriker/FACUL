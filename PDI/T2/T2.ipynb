{
 "cells": [
  {
   "cell_type": "markdown",
   "metadata": {},
   "source": [
    "# LINHA - COLUNA - CANAL"
   ]
  },
  {
   "cell_type": "markdown",
   "metadata": {},
   "source": [
    "###### IMPORTS"
   ]
  },
  {
   "cell_type": "code",
   "execution_count": 1,
   "metadata": {},
   "outputs": [],
   "source": [
    "import cv2\n",
    "import numpy as np\n",
    "import os\n",
    "from datetime import datetime\n",
    "from dateutil import relativedelta"
   ]
  },
  {
   "cell_type": "markdown",
   "metadata": {},
   "source": [
    "###### CONSTANTES"
   ]
  },
  {
   "cell_type": "code",
   "execution_count": 2,
   "metadata": {},
   "outputs": [],
   "source": [
    "jx = 5    ### eixo x da janela\n",
    "jy = 5    ### eixo y da janela\n",
    "canal = 1 ### colorido = 1 / escala de cinza = 0"
   ]
  },
  {
   "cell_type": "markdown",
   "metadata": {},
   "source": [
    "###### Tratamento da imagem"
   ]
  },
  {
   "cell_type": "code",
   "execution_count": 3,
   "metadata": {},
   "outputs": [],
   "source": [
    "##def trataImagem(img):\n",
    "    ## Tratar canais\n",
    "\n",
    "def criaImagemNova(y, x, c):\n",
    "    return np.empty((y, x, c))"
   ]
  },
  {
   "cell_type": "markdown",
   "metadata": {},
   "source": [
    "######  Valida se pixels e extremos das janelas estão dentro da imagem"
   ]
  },
  {
   "cell_type": "code",
   "execution_count": 4,
   "metadata": {},
   "outputs": [],
   "source": [
    "def pixelValido(y, x, maxY, maxX):\n",
    "    return y > 0 and x > 0 and y < maxY and x < maxX\n",
    "\n",
    "def janelaValida(y, x, maxY, maxX, janelaY, janelaX):\n",
    "    return (pixelValido((y+janelaY/2), (x+janelaX/2), maxY, maxX) and\n",
    "            pixelValido((y-janelaY/2), (x-janelaX/2), maxY, maxX) and\n",
    "            pixelValido((y+janelaY/2), (x-janelaX/2), maxY, maxX) and\n",
    "            pixelValido((y-janelaY/2), (x+janelaX/2), maxY, maxX))"
   ]
  },
  {
   "cell_type": "markdown",
   "metadata": {},
   "source": [
    "######   Função genérica para percorrer a imagem dada"
   ]
  },
  {
   "cell_type": "code",
   "execution_count": 5,
   "metadata": {},
   "outputs": [],
   "source": [
    "def percorrerImg(img, newImg, func):\n",
    "    for y in range(img.shape[0]):\n",
    "        for x in range(img.shape[1]):\n",
    "            for c in range(img.shape[2]):\n",
    "                func(img, newImg, y, x, c)"
   ]
  },
  {
   "cell_type": "markdown",
   "metadata": {},
   "source": [
    "######  Algoritmo ingênuo"
   ]
  },
  {
   "cell_type": "code",
   "execution_count": 6,
   "metadata": {},
   "outputs": [],
   "source": [
    "def calculaPixelIngenuo(img, newImg, y, x, c):\n",
    "    if janelaValida(y, x, img.shape[0], img.shape[1], jy, jx):\n",
    "        soma = 0\n",
    "        for lin in range(-(jy//2), jy//2+1):\n",
    "            for col in range(-(jx//2), jx//2+1):\n",
    "                soma += img[y+lin][x+col][c]\n",
    "        newImg[y][x][c] = soma/(jx*jy)\n",
    "    else:\n",
    "        newImg[y][x][c] = img[y][x][c]\n",
    "\n",
    "def ingenuo(img):\n",
    "    ##trataImagem(img)\n",
    "    newImg = criaImagemNova(img.shape[0], img.shape[1], img.shape[2])\n",
    "    percorrerImg(img, newImg, calculaPixelIngenuo)\n",
    "    cv2.imwrite('ingenuo.bmp', newImg)"
   ]
  },
  {
   "cell_type": "markdown",
   "metadata": {},
   "source": [
    "######  Algoritmo separável"
   ]
  },
  {
   "cell_type": "code",
   "execution_count": 7,
   "metadata": {},
   "outputs": [],
   "source": [
    "def calculaPixelSeparavelY(img, newImg, y, x, c):\n",
    "    if janelaValida(y, x, img.shape[0], img.shape[1], jy, 0):\n",
    "        soma = 0\n",
    "        for lin in range(-(jy//2), jy//2+1):\n",
    "            soma += img[y+lin][x][c]\n",
    "        newImg[y][x][c] = soma/(jy)\n",
    "    else:\n",
    "        newImg[y][x][c] = img[y][x][c]\n",
    "        \n",
    "def calculaPixelSeparavelX(img, newImg, y, x, c):\n",
    "    if janelaValida(y, x, img.shape[0], img.shape[1], 0, jx):\n",
    "        soma = 0\n",
    "        for col in range(-(jx//2), jx//2+1):\n",
    "            soma += img[y][x+col][c]\n",
    "        newImg[y][x][c] = soma/(jx)\n",
    "    else:\n",
    "        newImg[y][x][c] = img[y][x][c]\n",
    "\n",
    "def separavel(img):\n",
    "    ##trataImagem(img)\n",
    "    newImg = criaImagemNova(img.shape[0], img.shape[1], img.shape[2])\n",
    "    percorrerImg(img, newImg, calculaPixelSeparavelY)\n",
    "    percorrerImg(newImg, img, calculaPixelSeparavelX)\n",
    "    cv2.imwrite('separavel.bmp', img)"
   ]
  },
  {
   "cell_type": "markdown",
   "metadata": {},
   "source": [
    "##### Imagem integral"
   ]
  },
  {
   "cell_type": "code",
   "execution_count": 8,
   "metadata": {},
   "outputs": [],
   "source": [
    "def criaImagemIntegralY(img, newImg, y, x, c):\n",
    "    if y != 0:\n",
    "        newImg[y][x][c] = newImg[y-1][x][c] + img[y][x][c]\n",
    "        \n",
    "def criaImagemIntegralX(img, newImg, y, x, c):\n",
    "    if x != 0:\n",
    "        newImg[y][x][c] = newImg[y][x-1][c] + img[y][x][c]\n",
    "        \n",
    "def calculaPixelIntegral(img, newImg, y, x, c):\n",
    "    minX = x - (jx//2) -1\n",
    "    minY = y - (jy//2) -1\n",
    "    maxX = x + (jx//2)\n",
    "    maxY = y + (jx//2)\n",
    "    if janelaValida(y, x, img.shape[0], img.shape[1], jy+1, jx+1):\n",
    "        soma = img[maxY][maxX][c]\n",
    "        soma += img[minY][minX][c]\n",
    "        soma -= img[maxY][minX][c]\n",
    "        soma -= img[minY][maxX][c]\n",
    "        newImg[y][x][c] = soma/(jx*jy)\n",
    "    \n",
    "def integral(img):\n",
    "    ##trataImagem(img)\n",
    "    newImg = criaImagemNova(img.shape[0], img.shape[1], img.shape[2])\n",
    "    percorrerImg(img, newImg, criaImagemIntegralY)\n",
    "    aux = criaImagemNova(img.shape[0], img.shape[1], img.shape[2])\n",
    "    percorrerImg(newImg, aux, criaImagemIntegralX)\n",
    "    percorrerImg(aux, img, calculaPixelIntegral)\n",
    "    cv2.imwrite('integral.bmp', img)"
   ]
  },
  {
   "cell_type": "markdown",
   "metadata": {},
   "source": [
    "##### Remove os arquivos caso existam"
   ]
  },
  {
   "cell_type": "code",
   "execution_count": 9,
   "metadata": {},
   "outputs": [],
   "source": [
    "def apagaArquivosExistentes():\n",
    "    if os.path.isfile('ingenuo.bmp'):\n",
    "        os.remove('ingenuo.bmp')\n",
    "    if os.path.isfile('separavel.bmp'):\n",
    "        os.remove('separavel.bmp')\n",
    "    if os.path.isfile('integral.bmp'):\n",
    "        os.remove('integral.bmp')"
   ]
  },
  {
   "cell_type": "markdown",
   "metadata": {},
   "source": [
    "##### Chama todas as funções de filtro da média"
   ]
  },
  {
   "cell_type": "code",
   "execution_count": 10,
   "metadata": {},
   "outputs": [
    {
     "name": "stdout",
     "output_type": "stream",
     "text": [
      "Ingenuo: \n",
      "relativedelta(seconds=+9, microseconds=+9693)\n",
      "Separavel: \n",
      "relativedelta(seconds=+5, microseconds=+958359)\n",
      "Integral: \n",
      "relativedelta(seconds=+3, microseconds=+257665)\n"
     ]
    }
   ],
   "source": [
    "apagaArquivosExistentes()\n",
    "\n",
    "img = cv2.imread('flores.bmp', 1)\n",
    "img = img.astype (np.float32)\n",
    "#img = img.reshape ((img.shape [0], img.shape [1], 1))\n",
    "\n",
    "init = datetime.now()\n",
    "ingenuo(img)\n",
    "end = datetime.now()\n",
    "print(\"Ingenuo: \")\n",
    "print(relativedelta.relativedelta(end, init))\n",
    "\n",
    "init = datetime.now()\n",
    "separavel(img)\n",
    "end = datetime.now()\n",
    "print(\"Separavel: \")\n",
    "print(relativedelta.relativedelta(end, init))\n",
    "\n",
    "init = datetime.now()\n",
    "integral(img)\n",
    "end = datetime.now()\n",
    "print(\"Integral: \")\n",
    "print(relativedelta.relativedelta(end, init))\n"
   ]
  }
 ],
 "metadata": {
  "kernelspec": {
   "display_name": "Python 3",
   "language": "python",
   "name": "python3"
  },
  "language_info": {
   "codemirror_mode": {
    "name": "ipython",
    "version": 3
   },
   "file_extension": ".py",
   "mimetype": "text/x-python",
   "name": "python",
   "nbconvert_exporter": "python",
   "pygments_lexer": "ipython3",
   "version": "3.7.1"
  }
 },
 "nbformat": 4,
 "nbformat_minor": 2
}
